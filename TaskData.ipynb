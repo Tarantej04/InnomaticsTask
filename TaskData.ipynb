{
 "cells": [
  {
   "cell_type": "code",
   "execution_count": null,
   "id": "7ca01200-89a5-4596-b2fe-0054574a6492",
   "metadata": {},
   "outputs": [],
   "source": [
    "import pandas as pd\n",
    "import zipfile\n",
    "import os\n",
    "\n",
    "# Paths\n",
    "zip_file_path = 'C:/Users/Kashish/Downloads/Property_data-20250109T075007Z-001.zip'\n",
    "extraction_path = '/mnt/data/property_data/'\n",
    "\n",
    "# Step 1: Extract the ZIP file\n",
    "with zipfile.ZipFile(zip_file_path, 'r') as zip_ref:\n",
    "    zip_ref.extractall(extraction_path)\n",
    "\n",
    "# Step 2: List all extracted CSV files\n",
    "extracted_files = []\n",
    "for root, dirs, files in os.walk(extraction_path):\n",
    "    for file in files:\n",
    "        extracted_files.append(os.path.join(root, file))\n",
    "\n",
    "# Step 3: Merge all CSVs into one DataFrame\n",
    "dataframes = []\n",
    "for file in extracted_files:\n",
    "    try:\n",
    "        # Attempt to read each CSV file\n",
    "        df = pd.read_csv(file)\n",
    "        dataframes.append(df)\n",
    "    except UnicodeDecodeError:\n",
    "        # Handle encoding issue for specific files\n",
    "        df = pd.read_csv(file, encoding='ISO-8859-1')\n",
    "        dataframes.append(df)\n",
    "\n",
    "# Combine all DataFrames into one\n",
    "merged_df = pd.concat(dataframes, ignore_index=True)\n",
    "\n",
    "# Step 4: Clean the merged DataFrame\n",
    "# Remove artifact columns and duplicates\n",
    "merged_df = merged_df.loc[:, ~merged_df.columns.duplicated()]\n",
    "if 'ÿþ' in merged_df.columns:\n",
    "    merged_df = merged_df.drop(columns=['ÿþ'])\n",
    "\n",
    "# Display cleaned DataFrame summary\n",
    "print(\"Merged DataFrame Summary:\")\n",
    "print(\"Shape:\", merged_df.shape)\n",
    "print(\"Columns:\", merged_df.columns.tolist())\n",
    "print(merged_df.head())\n",
    "interactions_df = pd.read_csv('C:/Users/Kashish/Downloads/property_interactions.csv')\n",
    "print(interactions_df.head())\n",
    "photos_df = pd.read_csv('C:/Users/Kashish/Downloads/property_photos.tsv', sep='\\t')\n",
    "print(photos_df.head())\n",
    "merged_df.to_csv('final_cleaned_data.csv', index=False)\n"
   ]
  },
  {
   "cell_type": "code",
   "execution_count": null,
   "id": "0a02ed73-be37-48ee-8c17-f1f3cd650f1a",
   "metadata": {},
   "outputs": [],
   "source": []
  }
 ],
 "metadata": {
  "kernelspec": {
   "display_name": "Python 3 (ipykernel)",
   "language": "python",
   "name": "python3"
  },
  "language_info": {
   "codemirror_mode": {
    "name": "ipython",
    "version": 3
   },
   "file_extension": ".py",
   "mimetype": "text/x-python",
   "name": "python",
   "nbconvert_exporter": "python",
   "pygments_lexer": "ipython3",
   "version": "3.13.1"
  }
 },
 "nbformat": 4,
 "nbformat_minor": 5
}
